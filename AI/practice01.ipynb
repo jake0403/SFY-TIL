{
  "nbformat": 4,
  "nbformat_minor": 0,
  "metadata": {
    "colab": {
      "name": "practice01.ipynb",
      "provenance": [],
      "collapsed_sections": [],
      "authorship_tag": "ABX9TyMP1Zqe6U/eiByPLAQvvD4F",
      "include_colab_link": true
    },
    "kernelspec": {
      "name": "python3",
      "display_name": "Python 3"
    },
    "language_info": {
      "name": "python"
    }
  },
  "cells": [
    {
      "cell_type": "markdown",
      "metadata": {
        "id": "view-in-github",
        "colab_type": "text"
      },
      "source": [
        "<a href=\"https://colab.research.google.com/github/jake0403/SFY-TIL/blob/master/AI/practice01.ipynb\" target=\"_parent\"><img src=\"https://colab.research.google.com/assets/colab-badge.svg\" alt=\"Open In Colab\"/></a>"
      ]
    },
    {
      "cell_type": "code",
      "metadata": {
        "id": "9giarHFBHB6d"
      },
      "source": [
        "from __future__ import print_function, division\n",
        "import os\n",
        "import torch\n",
        "import pandas as pd\n",
        "from skimage import io, transform\n",
        "import numpy as np\n",
        "import warnings\n",
        "warnings.filterwarnings(\"ignore\")"
      ],
      "execution_count": 2,
      "outputs": []
    },
    {
      "cell_type": "code",
      "metadata": {
        "colab": {
          "base_uri": "https://localhost:8080/"
        },
        "id": "50JRO_RFHePx",
        "outputId": "d85cbcdb-05b2-4d56-e9fc-d7a9526c65c4"
      },
      "source": [
        "import torch\n",
        "X = torch.rand(3,2,5)\n",
        "Y = torch.rand(3,5,3)\n",
        "\n",
        "D = X.matmul(Y) # 행렬 곱 (내적)\n",
        "print(D)\n",
        "print(D.shape)\n",
        "# X.mul(Y)    # X*Y 와 동일. 각 원소 별로 곱하는 연산."
      ],
      "execution_count": 2,
      "outputs": [
        {
          "output_type": "stream",
          "text": [
            "tensor([[[1.0779, 1.3160, 1.4654],\n",
            "         [0.4574, 0.7797, 0.7615]],\n",
            "\n",
            "        [[1.5339, 2.2895, 1.5037],\n",
            "         [1.4157, 1.8386, 1.5820]],\n",
            "\n",
            "        [[1.3420, 1.8027, 1.6045],\n",
            "         [1.0898, 1.5255, 1.3709]]])\n",
            "torch.Size([3, 2, 3])\n"
          ],
          "name": "stdout"
        }
      ]
    },
    {
      "cell_type": "code",
      "metadata": {
        "colab": {
          "base_uri": "https://localhost:8080/"
        },
        "id": "eEzTO5QlI5z_",
        "outputId": "cf51e71c-b9b0-43f5-9805-4179f8a4d899"
      },
      "source": [
        "# Study time\n",
        "x_train = torch.FloatTensor([[10], [11], [14], [18], [19], [22], [24]])\n",
        "# Grade\n",
        "y_train = torch.FloatTensor([[45], [50], [55], [70], [58], [80], [85]])\n",
        "\n",
        "print(x_train.shape, '|', x_train.dim())"
      ],
      "execution_count": 10,
      "outputs": [
        {
          "output_type": "stream",
          "text": [
            "torch.Size([7, 1]) | 2\n"
          ],
          "name": "stdout"
        }
      ]
    },
    {
      "cell_type": "code",
      "metadata": {
        "id": "cB9VTBPFB-lm"
      },
      "source": [
        "%matplotlib inline\n",
        "import matplotlib.pyplot as plt\n"
      ],
      "execution_count": 6,
      "outputs": []
    },
    {
      "cell_type": "code",
      "metadata": {
        "colab": {
          "base_uri": "https://localhost:8080/",
          "height": 279
        },
        "id": "TQ4e3cO3EUHK",
        "outputId": "70191611-c0b4-459f-d761-21ec41b1b5ba"
      },
      "source": [
        "plt.scatter(x_train, y_train)\n",
        "plt.xlabel('Study Time(hour)')\n",
        "plt.ylabel(\"Score\")\n",
        "plt.show()"
      ],
      "execution_count": 7,
      "outputs": [
        {
          "output_type": "display_data",
          "data": {
            "image/png": "[encoded data removed]",
            "text/plain": [
              "<Figure size 432x288 with 1 Axes>"
            ]
          },
          "metadata": {
            "needs_background": "light"
          }
        }
      ]
    },
    {
      "cell_type": "code",
      "metadata": {
        "colab": {
          "base_uri": "https://localhost:8080/"
        },
        "id": "FIru6-C3ExS9",
        "outputId": "2bee6491-2396-41a1-ed73-100304b9c5f9"
      },
      "source": [
        "from google.colab import drive\n",
        "drive.mount('/content/gdrive/')"
      ],
      "execution_count": 8,
      "outputs": [
        {
          "output_type": "stream",
          "text": [
            "Mounted at /content/gdrive/\n"
          ],
          "name": "stdout"
        }
      ]
    },
    {
      "cell_type": "code",
      "metadata": {
        "colab": {
          "base_uri": "https://localhost:8080/",
          "height": 204
        },
        "id": "iasqf8VpG-K8",
        "outputId": "1beabdd9-d20b-46eb-dd73-c0d957dd1255"
      },
      "source": [
        "import pathlib\n",
        "path = pathlib.Path('/content/gdrive/My Drive/health_data.csv')\n",
        "\n",
        "data_file = pd.read_csv(path)\n",
        "data_file.head()"
      ],
      "execution_count": 9,
      "outputs": [
        {
          "output_type": "execute_result",
          "data": {
            "text/html": [
              "<div>\n",
              "<style scoped>\n",
              "    .dataframe tbody tr th:only-of-type {\n",
              "        vertical-align: middle;\n",
              "    }\n",
              "\n",
              "    .dataframe tbody tr th {\n",
              "        vertical-align: top;\n",
              "    }\n",
              "\n",
              "    .dataframe thead th {\n",
              "        text-align: right;\n",
              "    }\n",
              "</style>\n",
              "<table border=\"1\" class=\"dataframe\">\n",
              "  <thead>\n",
              "    <tr style=\"text-align: right;\">\n",
              "      <th></th>\n",
              "      <th>Unnamed: 0</th>\n",
              "      <th>height</th>\n",
              "      <th>weight</th>\n",
              "    </tr>\n",
              "  </thead>\n",
              "  <tbody>\n",
              "    <tr>\n",
              "      <th>0</th>\n",
              "      <td>0</td>\n",
              "      <td>158.9</td>\n",
              "      <td>52.015</td>\n",
              "    </tr>\n",
              "    <tr>\n",
              "      <th>1</th>\n",
              "      <td>1</td>\n",
              "      <td>173.6</td>\n",
              "      <td>66.910</td>\n",
              "    </tr>\n",
              "    <tr>\n",
              "      <th>2</th>\n",
              "      <td>2</td>\n",
              "      <td>174.4</td>\n",
              "      <td>66.000</td>\n",
              "    </tr>\n",
              "    <tr>\n",
              "      <th>3</th>\n",
              "      <td>3</td>\n",
              "      <td>169.2</td>\n",
              "      <td>NaN</td>\n",
              "    </tr>\n",
              "    <tr>\n",
              "      <th>4</th>\n",
              "      <td>4</td>\n",
              "      <td>154.0</td>\n",
              "      <td>49.275</td>\n",
              "    </tr>\n",
              "  </tbody>\n",
              "</table>\n",
              "</div>"
            ],
            "text/plain": [
              "   Unnamed: 0  height  weight\n",
              "0           0   158.9  52.015\n",
              "1           1   173.6  66.910\n",
              "2           2   174.4  66.000\n",
              "3           3   169.2     NaN\n",
              "4           4   154.0  49.275"
            ]
          },
          "metadata": {},
          "execution_count": 9
        }
      ]
    },
    {
      "cell_type": "code",
      "metadata": {
        "colab": {
          "base_uri": "https://localhost:8080/",
          "height": 204
        },
        "id": "7S1gSUpoJm-t",
        "outputId": "f5d4edd4-9e01-435e-f93f-5d3868467093"
      },
      "source": [
        "# Null 값 제거\n",
        "data_file = data_file.dropna(axis=0).reset_index(drop=True)\n",
        "data_file.head()"
      ],
      "execution_count": 11,
      "outputs": [
        {
          "output_type": "execute_result",
          "data": {
            "text/html": [
              "<div>\n",
              "<style scoped>\n",
              "    .dataframe tbody tr th:only-of-type {\n",
              "        vertical-align: middle;\n",
              "    }\n",
              "\n",
              "    .dataframe tbody tr th {\n",
              "        vertical-align: top;\n",
              "    }\n",
              "\n",
              "    .dataframe thead th {\n",
              "        text-align: right;\n",
              "    }\n",
              "</style>\n",
              "<table border=\"1\" class=\"dataframe\">\n",
              "  <thead>\n",
              "    <tr style=\"text-align: right;\">\n",
              "      <th></th>\n",
              "      <th>Unnamed: 0</th>\n",
              "      <th>height</th>\n",
              "      <th>weight</th>\n",
              "    </tr>\n",
              "  </thead>\n",
              "  <tbody>\n",
              "    <tr>\n",
              "      <th>0</th>\n",
              "      <td>0</td>\n",
              "      <td>158.9</td>\n",
              "      <td>52.015</td>\n",
              "    </tr>\n",
              "    <tr>\n",
              "      <th>1</th>\n",
              "      <td>1</td>\n",
              "      <td>173.6</td>\n",
              "      <td>66.910</td>\n",
              "    </tr>\n",
              "    <tr>\n",
              "      <th>2</th>\n",
              "      <td>2</td>\n",
              "      <td>174.4</td>\n",
              "      <td>66.000</td>\n",
              "    </tr>\n",
              "    <tr>\n",
              "      <th>3</th>\n",
              "      <td>4</td>\n",
              "      <td>154.0</td>\n",
              "      <td>49.275</td>\n",
              "    </tr>\n",
              "    <tr>\n",
              "      <th>4</th>\n",
              "      <td>5</td>\n",
              "      <td>177.7</td>\n",
              "      <td>69.820</td>\n",
              "    </tr>\n",
              "  </tbody>\n",
              "</table>\n",
              "</div>"
            ],
            "text/plain": [
              "   Unnamed: 0  height  weight\n",
              "0           0   158.9  52.015\n",
              "1           1   173.6  66.910\n",
              "2           2   174.4  66.000\n",
              "3           4   154.0  49.275\n",
              "4           5   177.7  69.820"
            ]
          },
          "metadata": {},
          "execution_count": 11
        }
      ]
    },
    {
      "cell_type": "code",
      "metadata": {
        "colab": {
          "base_uri": "https://localhost:8080/"
        },
        "id": "5leVq5gGM5SZ",
        "outputId": "4e56ce76-df8f-4397-8b9b-1c1e70078bc9"
      },
      "source": [
        "height = torch.tensor(data_file.height)\n",
        "weight = torch.tensor(data_file.weight)\n",
        "\n",
        "x_train = height.view([height.shape[0], 1]).float()\n",
        "y_train = weight.view([weight.shape[0], 1]).float()\n",
        "\n",
        "print(x_train.shape)"
      ],
      "execution_count": 15,
      "outputs": [
        {
          "output_type": "stream",
          "text": [
            "torch.Size([50, 1])\n"
          ],
          "name": "stdout"
        }
      ]
    },
    {
      "cell_type": "code",
      "metadata": {
        "id": "uu9N615BOhqK"
      },
      "source": [
        "x_train = torch.cat((torch.rand(50,1)*45 + 145, x_train), axis = 0)\n",
        "y_train = torch.cat((torch.rand(50,1)*45 + 40, y_train), axis = 0)"
      ],
      "execution_count": 17,
      "outputs": []
    },
    {
      "cell_type": "code",
      "metadata": {
        "colab": {
          "base_uri": "https://localhost:8080/",
          "height": 279
        },
        "id": "1YLbEf2rP4Va",
        "outputId": "f680d81b-8352-4822-9bf1-661000aa8e88"
      },
      "source": [
        "plt.scatter(x_train, y_train)\n",
        "plt.xlabel('Height(cm)')\n",
        "plt.ylabel(\"Weigth(kg)\")\n",
        "plt.show()"
      ],
      "execution_count": 18,
      "outputs": [
        {
          "output_type": "display_data",
          "data": {
            "image/png": "[encoded data removed]",
            "text/plain": [
              "<Figure size 432x288 with 1 Axes>"
            ]
          },
          "metadata": {
            "needs_background": "light"
          }
        }
      ]
    },
    {
      "cell_type": "code",
      "metadata": {
        "colab": {
          "base_uri": "https://localhost:8080/"
        },
        "id": "hbJrR0RZRu8o",
        "outputId": "cf55c71b-e051-4e48-89a5-6ad27bcdabdf"
      },
      "source": [
        "iter = 50000    # loss 값을 구하는 횟수로 총 5만번\n",
        "\n",
        "weight_max = 100    #'[입력범위]'로 random값의 weight 범위 제한 목적 ( -50 < weight < 50 )\n",
        "bias_max = 150      #오프셋으로 random값의 bias 범위 제한 목적 (-150 < bias < 0)\n",
        "min_loss = 10000000   #업데이트 된 가장 작은 값의 loss 저장\n",
        "\n",
        "min_w = 0\n",
        "min_b = 0\n",
        "\n",
        "# dataset\n",
        "x = x_train\n",
        "y = y_train\n",
        "\n",
        "def loss_fn(hypo, GT):\n",
        "    return sum(abs(hypo - GT))\n",
        "\n",
        "for i in range(iter):\n",
        "    W = (torch.rand(1) - 0.5) * weight_max    # [-50 ~ 50]\n",
        "    b = (-torch.rand(1)) * bias_max           # [-150 ~ 0]\n",
        "    hypothesis = x * W + b\n",
        "\n",
        "    cur_loss = loss_fn(hypothesis, y)\n",
        "\n",
        "    if cur_loss < min_loss:\n",
        "      min_loss = cur_loss\n",
        "      min_w = W\n",
        "      min_b = b\n",
        "\n",
        "print(f'min_loss : {min_loss}')\n",
        "print(f'min_w : {min_w}')\n",
        "print(f'min_b : {min_b}')"
      ],
      "execution_count": 28,
      "outputs": [
        {
          "output_type": "stream",
          "text": [
            "min_loss : tensor([832.3812])\n",
            "min_w : tensor([0.6748])\n",
            "min_b : tensor([-51.2477])\n"
          ],
          "name": "stdout"
        }
      ]
    },
    {
      "cell_type": "code",
      "metadata": {
        "colab": {
          "base_uri": "https://localhost:8080/",
          "height": 279
        },
        "id": "uIEENG3vT_Lv",
        "outputId": "a298eba6-94eb-4791-8fbc-b7fd56725861"
      },
      "source": [
        "x = x_train\n",
        "y = y_train\n",
        "\n",
        "plt.scatter(x, y)\n",
        "\n",
        "t = np.arange(140., 190., 0.001)\n",
        "\n",
        "plt.plot(t, min_w*t+min_b, 'r')\n",
        "plt.xlabel('height (cm)')\n",
        "plt.ylabel('weight (kg)')\n",
        "plt.show()"
      ],
      "execution_count": 29,
      "outputs": [
        {
          "output_type": "display_data",
          "data": {
            "image/png": "[encoded data removed]",
            "text/plain": [
              "<Figure size 432x288 with 1 Axes>"
            ]
          },
          "metadata": {
            "needs_background": "light"
          }
        }
      ]
    }
  ]
}